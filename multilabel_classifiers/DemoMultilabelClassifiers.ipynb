{
 "cells": [
  {
   "cell_type": "code",
   "execution_count": 8,
   "metadata": {},
   "outputs": [],
   "source": [
    "from sklearn.linear_model import LogisticRegression\n",
    "from sklearn.svm import SVC\n",
    "from sklearn.dummy import DummyClassifier\n",
    "from run_multilabel_classifier import run"
   ]
  },
  {
   "cell_type": "code",
   "execution_count": 10,
   "metadata": {},
   "outputs": [
    {
     "name": "stderr",
     "output_type": "stream",
     "text": [
      "C:\\Users\\jasmi\\Anaconda3\\lib\\site-packages\\sklearn\\model_selection\\_split.py:2026: FutureWarning: From version 0.21, test_size will always complement train_size unless both are specified.\n",
      "  FutureWarning)\n"
     ]
    },
    {
     "name": "stdout",
     "output_type": "stream",
     "text": [
      "Fitting 5 folds for each of 1 candidates, totalling 5 fits\n"
     ]
    },
    {
     "name": "stderr",
     "output_type": "stream",
     "text": [
      "[Parallel(n_jobs=1)]: Done   5 out of   5 | elapsed:  2.9min finished\n"
     ]
    },
    {
     "name": "stdout",
     "output_type": "stream",
     "text": [
      "{'mean_fit_time': array([26.25975056]),\n",
      " 'mean_score_time': array([1.77665486]),\n",
      " 'mean_test_score': array([0.501717]),\n",
      " 'mean_train_score': array([0.50171703]),\n",
      " 'param_estimator__bag_of_words__max_features': masked_array(data=[500],\n",
      "             mask=[False],\n",
      "       fill_value='?',\n",
      "            dtype=object),\n",
      " 'param_estimator__bag_of_words__ngram_range': masked_array(data=[(1, 2)],\n",
      "             mask=[False],\n",
      "       fill_value='?',\n",
      "            dtype=object),\n",
      " 'param_estimator__bag_of_words__stop_words': masked_array(data=['english'],\n",
      "             mask=[False],\n",
      "       fill_value='?',\n",
      "            dtype=object),\n",
      " 'param_estimator__classifier__strategy': masked_array(data=['uniform'],\n",
      "             mask=[False],\n",
      "       fill_value='?',\n",
      "            dtype=object),\n",
      " 'param_estimator__dim_reduct__n_components': masked_array(data=[300],\n",
      "             mask=[False],\n",
      "       fill_value='?',\n",
      "            dtype=object),\n",
      " 'param_estimator__normalizer__norm': masked_array(data=['l2'],\n",
      "             mask=[False],\n",
      "       fill_value='?',\n",
      "            dtype=object),\n",
      " 'params': [{'estimator__bag_of_words__max_features': 500,\n",
      "             'estimator__bag_of_words__ngram_range': (1, 2),\n",
      "             'estimator__bag_of_words__stop_words': 'english',\n",
      "             'estimator__classifier__strategy': 'uniform',\n",
      "             'estimator__dim_reduct__n_components': 300,\n",
      "             'estimator__normalizer__norm': 'l2'}],\n",
      " 'rank_test_score': array([1]),\n",
      " 'split0_test_score': array([0.50099053]),\n",
      " 'split0_train_score': array([0.50189863]),\n",
      " 'split1_test_score': array([0.50165089]),\n",
      " 'split1_train_score': array([0.50173353]),\n",
      " 'split2_test_score': array([0.49284614]),\n",
      " 'split2_train_score': array([0.50393484]),\n",
      " 'split3_test_score': array([0.50275149]),\n",
      " 'split3_train_score': array([0.50145837]),\n",
      " 'split4_test_score': array([0.51034786]),\n",
      " 'split4_train_score': array([0.49955976]),\n",
      " 'std_fit_time': array([0.81915406]),\n",
      " 'std_score_time': array([0.2056224]),\n",
      " 'std_test_score': array([0.00556375]),\n",
      " 'std_train_score': array([0.00139087])}\n",
      "=================  Classification report  =================\n",
      "             precision    recall  f1-score   support\n",
      "\n",
      "          0       0.00      0.00      0.00      4625\n",
      "          1       0.00      0.00      0.00       492\n",
      "          2       0.00      0.00      0.00      2533\n",
      "          3       0.00      0.00      0.00       150\n",
      "          4       0.00      0.00      0.00      2369\n",
      "          5       0.00      0.00      0.00       416\n",
      "\n",
      "avg / total       0.00      0.00      0.00     10585\n",
      "\n",
      "=================     Best parameters     =================\n",
      "{'estimator__bag_of_words__max_features': 500,\n",
      " 'estimator__bag_of_words__ngram_range': (1, 2),\n",
      " 'estimator__bag_of_words__stop_words': 'english',\n",
      " 'estimator__classifier__strategy': 'uniform',\n",
      " 'estimator__dim_reduct__n_components': 300,\n",
      " 'estimator__normalizer__norm': 'l2'}\n"
     ]
    },
    {
     "name": "stderr",
     "output_type": "stream",
     "text": [
      "C:\\Users\\jasmi\\Anaconda3\\lib\\site-packages\\sklearn\\metrics\\classification.py:1135: UndefinedMetricWarning: Precision and F-score are ill-defined and being set to 0.0 in labels with no predicted samples.\n",
      "  'precision', 'predicted', average, warn_for)\n"
     ]
    }
   ],
   "source": [
    "param_grid = [{\n",
    "        'estimator__bag_of_words__stop_words': ['english'],\n",
    "        'estimator__bag_of_words__ngram_range': [(1, 2)],\n",
    "        'estimator__bag_of_words__max_features': [500],\n",
    "        'estimator__dim_reduct__n_components': [300],\n",
    "        'estimator__normalizer__norm': ['l2'],\n",
    "        'estimator__classifier__strategy': ['uniform']\n",
    "}]\n",
    "\n",
    "clf = DummyClassifier()\n",
    "\n",
    "run(param_grid, clf, comments_file='../data/train.csv')"
   ]
  },
  {
   "cell_type": "code",
   "execution_count": 7,
   "metadata": {},
   "outputs": [
    {
     "name": "stderr",
     "output_type": "stream",
     "text": [
      "C:\\Users\\jasmi\\Anaconda3\\lib\\site-packages\\sklearn\\model_selection\\_split.py:2026: FutureWarning: From version 0.21, test_size will always complement train_size unless both are specified.\n",
      "  FutureWarning)\n"
     ]
    },
    {
     "name": "stdout",
     "output_type": "stream",
     "text": [
      "Fitting 5 folds for each of 2 candidates, totalling 10 fits\n"
     ]
    },
    {
     "name": "stderr",
     "output_type": "stream",
     "text": [
      "[Parallel(n_jobs=1)]: Done  10 out of  10 | elapsed:  6.9min finished\n"
     ]
    },
    {
     "name": "stdout",
     "output_type": "stream",
     "text": [
      "{'mean_fit_time': array([31.36015792, 33.09610643]),\n",
      " 'mean_score_time': array([1.78899193, 1.7961607 ]),\n",
      " 'mean_test_score': array([0.62564938, 0.62657392]),\n",
      " 'mean_train_score': array([0.64158665, 0.64261024]),\n",
      " 'param_estimator__bag_of_words__max_features': masked_array(data=[500, 500],\n",
      "             mask=[False, False],\n",
      "       fill_value='?',\n",
      "            dtype=object),\n",
      " 'param_estimator__bag_of_words__ngram_range': masked_array(data=[(1, 2), (1, 2)],\n",
      "             mask=[False, False],\n",
      "       fill_value='?',\n",
      "            dtype=object),\n",
      " 'param_estimator__bag_of_words__stop_words': masked_array(data=['english', 'english'],\n",
      "             mask=[False, False],\n",
      "       fill_value='?',\n",
      "            dtype=object),\n",
      " 'param_estimator__classifier__C': masked_array(data=[10.0, 100.0],\n",
      "             mask=[False, False],\n",
      "       fill_value='?',\n",
      "            dtype=object),\n",
      " 'param_estimator__dim_reduct__n_components': masked_array(data=[300, 300],\n",
      "             mask=[False, False],\n",
      "       fill_value='?',\n",
      "            dtype=object),\n",
      " 'param_estimator__normalizer__norm': masked_array(data=['l2', 'l2'],\n",
      "             mask=[False, False],\n",
      "       fill_value='?',\n",
      "            dtype=object),\n",
      " 'params': [{'estimator__bag_of_words__max_features': 500,\n",
      "             'estimator__bag_of_words__ngram_range': (1, 2),\n",
      "             'estimator__bag_of_words__stop_words': 'english',\n",
      "             'estimator__classifier__C': 10.0,\n",
      "             'estimator__dim_reduct__n_components': 300,\n",
      "             'estimator__normalizer__norm': 'l2'},\n",
      "            {'estimator__bag_of_words__max_features': 500,\n",
      "             'estimator__bag_of_words__ngram_range': (1, 2),\n",
      "             'estimator__bag_of_words__stop_words': 'english',\n",
      "             'estimator__classifier__C': 100.0,\n",
      "             'estimator__dim_reduct__n_components': 300,\n",
      "             'estimator__normalizer__norm': 'l2'}],\n",
      " 'rank_test_score': array([2, 1]),\n",
      " 'split0_test_score': array([0.62249615, 0.62403698]),\n",
      " 'split0_train_score': array([0.64300259, 0.64316768]),\n",
      " 'split1_test_score': array([0.63812459, 0.63900506]),\n",
      " 'split1_train_score': array([0.6384899 , 0.63815971]),\n",
      " 'split2_test_score': array([0.62887959, 0.63020031]),\n",
      " 'split2_train_score': array([0.64019592, 0.64124154]),\n",
      " 'split3_test_score': array([0.62535769, 0.62579793]),\n",
      " 'split3_train_score': array([0.64091134, 0.64360795]),\n",
      " 'split4_test_score': array([0.61338617, 0.61382651]),\n",
      " 'split4_train_score': array([0.64533348, 0.64687431]),\n",
      " 'std_fit_time': array([1.04621723, 0.74571313]),\n",
      " 'std_score_time': array([0.08520061, 0.03775053]),\n",
      " 'std_test_score': array([0.00808035, 0.00821216]),\n",
      " 'std_train_score': array([0.00236743, 0.00286946])}\n",
      "=================  Classification report  =================\n",
      "             precision    recall  f1-score   support\n",
      "\n",
      "          0       0.87      0.75      0.81      4616\n",
      "          1       0.52      0.20      0.29       473\n",
      "          2       0.87      0.72      0.79      2495\n",
      "          3       0.48      0.24      0.32       134\n",
      "          4       0.77      0.59      0.67      2352\n",
      "          5       0.69      0.25      0.36       431\n",
      "\n",
      "avg / total       0.82      0.66      0.72     10501\n",
      "\n",
      "=================     Best parameters     =================\n",
      "{'estimator__bag_of_words__max_features': 500,\n",
      " 'estimator__bag_of_words__ngram_range': (1, 2),\n",
      " 'estimator__bag_of_words__stop_words': 'english',\n",
      " 'estimator__classifier__C': 100.0,\n",
      " 'estimator__dim_reduct__n_components': 300,\n",
      " 'estimator__normalizer__norm': 'l2'}\n"
     ]
    }
   ],
   "source": [
    "param_grid = [{\n",
    "        'estimator__bag_of_words__stop_words': ['english'],\n",
    "        'estimator__bag_of_words__ngram_range': [(1, 2)],\n",
    "        'estimator__bag_of_words__max_features': [500],\n",
    "        'estimator__dim_reduct__n_components': [300],\n",
    "        'estimator__normalizer__norm': ['l2'],\n",
    "        'estimator__classifier__C': [10., 100.]\n",
    "}]\n",
    "\n",
    "\n",
    "clf = LogisticRegression()\n",
    "\n",
    "run(param_grid, clf, comments_file='../data/train.csv')"
   ]
  },
  {
   "cell_type": "code",
   "execution_count": 2,
   "metadata": {},
   "outputs": [
    {
     "name": "stderr",
     "output_type": "stream",
     "text": [
      "C:\\Users\\jasmi\\Anaconda3\\lib\\site-packages\\sklearn\\model_selection\\_split.py:2026: FutureWarning: From version 0.21, test_size will always complement train_size unless both are specified.\n",
      "  FutureWarning)\n"
     ]
    },
    {
     "name": "stdout",
     "output_type": "stream",
     "text": [
      "Fitting 5 folds for each of 3 candidates, totalling 15 fits\n"
     ]
    },
    {
     "name": "stderr",
     "output_type": "stream",
     "text": [
      "[Parallel(n_jobs=1)]: Done  15 out of  15 | elapsed: 143.4min finished\n"
     ]
    },
    {
     "name": "stdout",
     "output_type": "stream",
     "text": [
      "{'mean_fit_time': array([251.65596199, 317.93201618, 315.16662455]),\n",
      " 'mean_score_time': array([39.06691628, 64.06045327, 63.96730871]),\n",
      " 'mean_test_score': array([0.62578146, 0.49753456, 0.49753456]),\n",
      " 'mean_train_score': array([0.63515892, 0.49753458, 0.49753458]),\n",
      " 'param_estimator__bag_of_words__max_features': masked_array(data=[500, 500, 500],\n",
      "             mask=[False, False, False],\n",
      "       fill_value='?',\n",
      "            dtype=object),\n",
      " 'param_estimator__bag_of_words__ngram_range': masked_array(data=[(1, 2), (1, 2), (1, 2)],\n",
      "             mask=[False, False, False],\n",
      "       fill_value='?',\n",
      "            dtype=object),\n",
      " 'param_estimator__bag_of_words__stop_words': masked_array(data=['english', 'english', 'english'],\n",
      "             mask=[False, False, False],\n",
      "       fill_value='?',\n",
      "            dtype=object),\n",
      " 'param_estimator__classifier__C': masked_array(data=[100.0, 0.1, 0.0001],\n",
      "             mask=[False, False, False],\n",
      "       fill_value='?',\n",
      "            dtype=object),\n",
      " 'param_estimator__dim_reduct__n_components': masked_array(data=[300, 300, 300],\n",
      "             mask=[False, False, False],\n",
      "       fill_value='?',\n",
      "            dtype=object),\n",
      " 'param_estimator__normalizer__norm': masked_array(data=['l2', 'l2', 'l2'],\n",
      "             mask=[False, False, False],\n",
      "       fill_value='?',\n",
      "            dtype=object),\n",
      " 'params': [{'estimator__bag_of_words__max_features': 500,\n",
      "             'estimator__bag_of_words__ngram_range': (1, 2),\n",
      "             'estimator__bag_of_words__stop_words': 'english',\n",
      "             'estimator__classifier__C': 100.0,\n",
      "             'estimator__dim_reduct__n_components': 300,\n",
      "             'estimator__normalizer__norm': 'l2'},\n",
      "            {'estimator__bag_of_words__max_features': 500,\n",
      "             'estimator__bag_of_words__ngram_range': (1, 2),\n",
      "             'estimator__bag_of_words__stop_words': 'english',\n",
      "             'estimator__classifier__C': 0.1,\n",
      "             'estimator__dim_reduct__n_components': 300,\n",
      "             'estimator__normalizer__norm': 'l2'},\n",
      "            {'estimator__bag_of_words__max_features': 500,\n",
      "             'estimator__bag_of_words__ngram_range': (1, 2),\n",
      "             'estimator__bag_of_words__stop_words': 'english',\n",
      "             'estimator__classifier__C': 0.0001,\n",
      "             'estimator__dim_reduct__n_components': 300,\n",
      "             'estimator__normalizer__norm': 'l2'}],\n",
      " 'rank_test_score': array([1, 2, 2]),\n",
      " 'split0_test_score': array([0.63196126, 0.49372661, 0.49372661]),\n",
      " 'split0_train_score': array([0.63623356, 0.4984866 , 0.4984866 ]),\n",
      " 'split1_test_score': array([0.62887959, 0.49086507, 0.49086507]),\n",
      " 'split1_train_score': array([0.63441748, 0.49920203, 0.49920203]),\n",
      " 'split2_test_score': array([0.62139555, 0.49284614, 0.49284614]),\n",
      " 'split2_train_score': array([0.63623356, 0.49870673, 0.49870673]),\n",
      " 'split3_test_score': array([0.62711864, 0.5040722 , 0.5040722 ]),\n",
      " 'split3_train_score': array([0.63221617, 0.49590006, 0.49590006]),\n",
      " 'split4_test_score': array([0.61955086, 0.50616469, 0.50616469]),\n",
      " 'split4_train_score': array([0.63669381, 0.4953775 , 0.4953775 ]),\n",
      " 'std_fit_time': array([6.47827505, 1.54363983, 1.25382338]),\n",
      " 'std_score_time': array([0.51665603, 0.28227857, 0.36636648]),\n",
      " 'std_test_score': array([0.00463959, 0.00629565, 0.00629565]),\n",
      " 'std_train_score': array([0.00166584, 0.00157387, 0.00157387])}\n",
      "=================  Classification report  =================\n"
     ]
    },
    {
     "name": "stderr",
     "output_type": "stream",
     "text": [
      "C:\\Users\\jasmi\\Anaconda3\\lib\\site-packages\\sklearn\\metrics\\classification.py:1135: UndefinedMetricWarning: Precision and F-score are ill-defined and being set to 0.0 in labels with no predicted samples.\n",
      "  'precision', 'predicted', average, warn_for)\n"
     ]
    },
    {
     "name": "stdout",
     "output_type": "stream",
     "text": [
      "             precision    recall  f1-score   support\n",
      "\n",
      "          0       0.89      0.73      0.80      4549\n",
      "          1       0.00      0.00      0.00       460\n",
      "          2       0.90      0.72      0.80      2522\n",
      "          3       0.50      0.06      0.10       137\n",
      "          4       0.75      0.57      0.65      2349\n",
      "          5       0.70      0.18      0.29       397\n",
      "\n",
      "avg / total       0.81      0.63      0.70     10414\n",
      "\n",
      "=================     Best parameters     =================\n",
      "{'estimator__bag_of_words__max_features': 500,\n",
      " 'estimator__bag_of_words__ngram_range': (1, 2),\n",
      " 'estimator__bag_of_words__stop_words': 'english',\n",
      " 'estimator__classifier__C': 100.0,\n",
      " 'estimator__dim_reduct__n_components': 300,\n",
      " 'estimator__normalizer__norm': 'l2'}\n"
     ]
    }
   ],
   "source": [
    "param_grid = {\n",
    "        'estimator__bag_of_words__stop_words': ['english'],\n",
    "        'estimator__bag_of_words__ngram_range': [(1, 2)],\n",
    "        'estimator__bag_of_words__max_features': [500],\n",
    "        'estimator__dim_reduct__n_components': [300],\n",
    "        'estimator__normalizer__norm': ['l2'],\n",
    "        'estimator__classifier__C': [100., 0.1, 0.0001]\n",
    "}\n",
    "\n",
    "clf = SVC()\n",
    "\n",
    "run(param_grid=param_grid, classifier=clf, comments_file='../data/train.csv')"
   ]
  },
  {
   "cell_type": "code",
   "execution_count": null,
   "metadata": {},
   "outputs": [],
   "source": []
  }
 ],
 "metadata": {
  "kernelspec": {
   "display_name": "Python 3",
   "language": "python",
   "name": "python3"
  },
  "language_info": {
   "codemirror_mode": {
    "name": "ipython",
    "version": 3
   },
   "file_extension": ".py",
   "mimetype": "text/x-python",
   "name": "python",
   "nbconvert_exporter": "python",
   "pygments_lexer": "ipython3",
   "version": "3.6.4"
  }
 },
 "nbformat": 4,
 "nbformat_minor": 2
}
