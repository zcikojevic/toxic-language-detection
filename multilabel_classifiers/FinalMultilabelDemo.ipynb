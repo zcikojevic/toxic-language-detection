{
 "cells": [
  {
   "cell_type": "code",
   "execution_count": 13,
   "metadata": {},
   "outputs": [],
   "source": [
    "import os\n",
    "import pickle\n",
    "\n",
    "from sklearn.linear_model import LogisticRegression\n",
    "from sklearn.dummy import DummyClassifier\n",
    "from sklearn.svm import SVC\n",
    "\n",
    "from sklearn.metrics import classification_report\n",
    "\n",
    "from run_multilabel_classifier import _load_comments, run"
   ]
  },
  {
   "cell_type": "code",
   "execution_count": 14,
   "metadata": {},
   "outputs": [],
   "source": [
    "train_comments_path = os.path.join('../', 'data/train.csv')\n",
    "test_comments_path = os.path.join('../', 'data/test_final.csv')"
   ]
  },
  {
   "cell_type": "code",
   "execution_count": 15,
   "metadata": {},
   "outputs": [],
   "source": [
    "# dummy\n",
    "param_grid = [{\n",
    "        'estimator__bag_of_words__stop_words': ['english'],\n",
    "        'estimator__bag_of_words__ngram_range': [(1, 2)],\n",
    "        'estimator__bag_of_words__max_features': [500],\n",
    "        'estimator__dim_reduct__n_components': [300],\n",
    "        'estimator__normalizer__norm': ['l2'],\n",
    "        'estimator__classifier__strategy': ['uniform']\n",
    "}]\n",
    "\n",
    "clf = DummyClassifier()"
   ]
  },
  {
   "cell_type": "code",
   "execution_count": 16,
   "metadata": {},
   "outputs": [
    {
     "name": "stdout",
     "output_type": "stream",
     "text": [
      "0 15294\n",
      "1 1595\n",
      "2 8449\n",
      "3 478\n",
      "4 7877\n",
      "5 1405\n",
      "0 5849\n",
      "[15294  1595  8449   478  7877  1405]\n",
      "===================================\n",
      "0 9445\n",
      "1 4254\n",
      "2 8449\n",
      "3 5371\n",
      "4 7877\n",
      "5 4444\n",
      "===================================\n",
      "143346\n",
      "39840\n",
      "Fitting 5 folds for each of 1 candidates, totalling 5 fits\n"
     ]
    },
    {
     "name": "stderr",
     "output_type": "stream",
     "text": [
      "C:\\Users\\jasmi\\Anaconda3\\lib\\site-packages\\sklearn\\model_selection\\_split.py:2026: FutureWarning: From version 0.21, test_size will always complement train_size unless both are specified.\n",
      "  FutureWarning)\n",
      "C:\\Users\\jasmi\\Anaconda3\\lib\\site-packages\\sklearn\\multiclass.py:76: UserWarning: Label 0 is present in all training examples.\n",
      "  str(classes[c]))\n",
      "C:\\Users\\jasmi\\Anaconda3\\lib\\site-packages\\sklearn\\multiclass.py:76: UserWarning: Label 0 is present in all training examples.\n",
      "  str(classes[c]))\n",
      "C:\\Users\\jasmi\\Anaconda3\\lib\\site-packages\\sklearn\\multiclass.py:76: UserWarning: Label 0 is present in all training examples.\n",
      "  str(classes[c]))\n",
      "C:\\Users\\jasmi\\Anaconda3\\lib\\site-packages\\sklearn\\multiclass.py:76: UserWarning: Label 0 is present in all training examples.\n",
      "  str(classes[c]))\n",
      "C:\\Users\\jasmi\\Anaconda3\\lib\\site-packages\\sklearn\\multiclass.py:76: UserWarning: Label 0 is present in all training examples.\n",
      "  str(classes[c]))\n",
      "[Parallel(n_jobs=1)]: Done   5 out of   5 | elapsed:    0.6s finished\n",
      "C:\\Users\\jasmi\\Anaconda3\\lib\\site-packages\\sklearn\\multiclass.py:76: UserWarning: Label 0 is present in all training examples.\n",
      "  str(classes[c]))\n"
     ]
    },
    {
     "name": "stdout",
     "output_type": "stream",
     "text": [
      "{'mean_fit_time': array([0.10531893]),\n",
      " 'mean_score_time': array([0.00997286]),\n",
      " 'mean_test_score': array([0.37142857]),\n",
      " 'mean_train_score': array([0.37142857]),\n",
      " 'param_estimator__bag_of_words__max_features': masked_array(data=[500],\n",
      "             mask=[False],\n",
      "       fill_value='?',\n",
      "            dtype=object),\n",
      " 'param_estimator__bag_of_words__ngram_range': masked_array(data=[(1, 2)],\n",
      "             mask=[False],\n",
      "       fill_value='?',\n",
      "            dtype=object),\n",
      " 'param_estimator__bag_of_words__stop_words': masked_array(data=['english'],\n",
      "             mask=[False],\n",
      "       fill_value='?',\n",
      "            dtype=object),\n",
      " 'param_estimator__classifier__strategy': masked_array(data=['uniform'],\n",
      "             mask=[False],\n",
      "       fill_value='?',\n",
      "            dtype=object),\n",
      " 'param_estimator__dim_reduct__n_components': masked_array(data=[300],\n",
      "             mask=[False],\n",
      "       fill_value='?',\n",
      "            dtype=object),\n",
      " 'param_estimator__normalizer__norm': masked_array(data=['l2'],\n",
      "             mask=[False],\n",
      "       fill_value='?',\n",
      "            dtype=object),\n",
      " 'params': [{'estimator__bag_of_words__max_features': 500,\n",
      "             'estimator__bag_of_words__ngram_range': (1, 2),\n",
      "             'estimator__bag_of_words__stop_words': 'english',\n",
      "             'estimator__classifier__strategy': 'uniform',\n",
      "             'estimator__dim_reduct__n_components': 300,\n",
      "             'estimator__normalizer__norm': 'l2'}],\n",
      " 'rank_test_score': array([1]),\n",
      " 'split0_test_score': array([0.28571429]),\n",
      " 'split0_train_score': array([0.39285714]),\n",
      " 'split1_test_score': array([0.28571429]),\n",
      " 'split1_train_score': array([0.39285714]),\n",
      " 'split2_test_score': array([0.57142857]),\n",
      " 'split2_train_score': array([0.32142857]),\n",
      " 'split3_test_score': array([0.35714286]),\n",
      " 'split3_train_score': array([0.375]),\n",
      " 'split4_test_score': array([0.35714286]),\n",
      " 'split4_train_score': array([0.375]),\n",
      " 'std_fit_time': array([0.01451583]),\n",
      " 'std_score_time': array([0.00227398]),\n",
      " 'std_test_score': array([0.10497813]),\n",
      " 'std_train_score': array([0.02624453])}\n",
      "=================  Classification report  =================\n",
      "             precision    recall  f1-score   support\n",
      "\n",
      "          0       1.00      1.00      1.00        30\n",
      "          1       0.00      0.00      0.00         1\n",
      "          2       0.00      0.00      0.00        14\n",
      "          3       0.00      0.00      0.00         1\n",
      "          4       0.00      0.00      0.00        19\n",
      "          5       0.00      0.00      0.00         5\n",
      "\n",
      "avg / total       0.43      0.43      0.43        70\n",
      "\n",
      "=================     Best parameters     =================\n",
      "{'estimator__bag_of_words__max_features': 500,\n",
      " 'estimator__bag_of_words__ngram_range': (1, 2),\n",
      " 'estimator__bag_of_words__stop_words': 'english',\n",
      " 'estimator__classifier__strategy': 'uniform',\n",
      " 'estimator__dim_reduct__n_components': 300,\n",
      " 'estimator__normalizer__norm': 'l2'}\n"
     ]
    },
    {
     "name": "stderr",
     "output_type": "stream",
     "text": [
      "C:\\Users\\jasmi\\Anaconda3\\lib\\site-packages\\sklearn\\metrics\\classification.py:1135: UndefinedMetricWarning: Precision and F-score are ill-defined and being set to 0.0 in labels with no predicted samples.\n",
      "  'precision', 'predicted', average, warn_for)\n"
     ]
    }
   ],
   "source": [
    "trained_clf = run(param_grid, clf, comments_file=train_comments_path)"
   ]
  },
  {
   "cell_type": "code",
   "execution_count": 17,
   "metadata": {},
   "outputs": [],
   "source": [
    "with open('./saved_models/dummy_trained_mlutils.pkl', 'wb') as saved_model:\n",
    "\tpickle.dump(trained_clf, file=saved_model)"
   ]
  },
  {
   "cell_type": "code",
   "execution_count": 18,
   "metadata": {},
   "outputs": [
    {
     "name": "stdout",
     "output_type": "stream",
     "text": [
      "0 6090\n",
      "1 367\n",
      "2 3691\n",
      "3 211\n",
      "4 3427\n",
      "5 712\n",
      "0 2416\n",
      "[6090  367 3691  211 3427  712]\n",
      "===================================\n",
      "0 3674\n",
      "1 2049\n",
      "2 1275\n",
      "3 2205\n",
      "4 3427\n",
      "5 1704\n",
      "===================================\n",
      "57735\n",
      "14334\n"
     ]
    },
    {
     "ename": "AttributeError",
     "evalue": "'NoneType' object has no attribute 'predict'",
     "output_type": "error",
     "traceback": [
      "\u001b[1;31m---------------------------------------------------------------------------\u001b[0m",
      "\u001b[1;31mAttributeError\u001b[0m                            Traceback (most recent call last)",
      "\u001b[1;32m<ipython-input-18-2f707edd69a0>\u001b[0m in \u001b[0;36m<module>\u001b[1;34m()\u001b[0m\n\u001b[0;32m      3\u001b[0m \u001b[1;33m\u001b[0m\u001b[0m\n\u001b[0;32m      4\u001b[0m         \u001b[0mX_test\u001b[0m\u001b[1;33m,\u001b[0m \u001b[0my_test\u001b[0m \u001b[1;33m=\u001b[0m \u001b[0m_load_comments\u001b[0m\u001b[1;33m(\u001b[0m\u001b[0mtest_comments_path\u001b[0m\u001b[1;33m)\u001b[0m\u001b[1;33m\u001b[0m\u001b[0m\n\u001b[1;32m----> 5\u001b[1;33m         \u001b[0my_test_predict\u001b[0m \u001b[1;33m=\u001b[0m \u001b[0mloaded_clf\u001b[0m\u001b[1;33m.\u001b[0m\u001b[0mpredict\u001b[0m\u001b[1;33m(\u001b[0m\u001b[0mX_test\u001b[0m\u001b[1;33m)\u001b[0m\u001b[1;33m\u001b[0m\u001b[0m\n\u001b[0m\u001b[0;32m      6\u001b[0m \u001b[1;33m\u001b[0m\u001b[0m\n\u001b[0;32m      7\u001b[0m         \u001b[0mprint\u001b[0m\u001b[1;33m(\u001b[0m\u001b[0mclassification_report\u001b[0m\u001b[1;33m(\u001b[0m\u001b[0my_test\u001b[0m\u001b[1;33m,\u001b[0m \u001b[0my_test_predict\u001b[0m\u001b[1;33m)\u001b[0m\u001b[1;33m)\u001b[0m\u001b[1;33m\u001b[0m\u001b[0m\n",
      "\u001b[1;31mAttributeError\u001b[0m: 'NoneType' object has no attribute 'predict'"
     ]
    }
   ],
   "source": [
    "with open('./saved_models/dummy_trained_mlutils.pkl', 'rb') as saved_model:\n",
    "\tloaded_clf = pickle.load(saved_model)\n",
    "\n",
    "\tX_test, y_test = _load_comments(test_comments_path)\n",
    "\ty_test_predict = loaded_clf.predict(X_test)\n",
    "\n",
    "\tprint(classification_report(y_test, y_test_predict))"
   ]
  },
  {
   "cell_type": "code",
   "execution_count": null,
   "metadata": {},
   "outputs": [],
   "source": []
  }
 ],
 "metadata": {
  "kernelspec": {
   "display_name": "Python 3",
   "language": "python",
   "name": "python3"
  },
  "language_info": {
   "codemirror_mode": {
    "name": "ipython",
    "version": 3
   },
   "file_extension": ".py",
   "mimetype": "text/x-python",
   "name": "python",
   "nbconvert_exporter": "python",
   "pygments_lexer": "ipython3",
   "version": "3.6.4"
  }
 },
 "nbformat": 4,
 "nbformat_minor": 2
}
