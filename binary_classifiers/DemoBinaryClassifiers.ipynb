{
 "cells": [
  {
   "cell_type": "code",
   "execution_count": 1,
   "metadata": {},
   "outputs": [],
   "source": [
    "from run_binary_classifier import run\n",
    "from sklearn.dummy import DummyClassifier\n",
    "from sklearn.linear_model import LogisticRegression\n",
    "from sklearn.naive_bayes import BernoulliNB\n",
    "from sklearn.svm import SVC"
   ]
  },
  {
   "cell_type": "code",
   "execution_count": 3,
   "metadata": {},
   "outputs": [
    {
     "name": "stderr",
     "output_type": "stream",
     "text": [
      "C:\\Users\\jasmi\\Anaconda3\\lib\\site-packages\\sklearn\\model_selection\\_split.py:2026: FutureWarning: From version 0.21, test_size will always complement train_size unless both are specified.\n",
      "  FutureWarning)\n"
     ]
    },
    {
     "name": "stdout",
     "output_type": "stream",
     "text": [
      "Fitting 5 folds for each of 1 candidates, totalling 5 fits\n"
     ]
    },
    {
     "name": "stderr",
     "output_type": "stream",
     "text": [
      "[Parallel(n_jobs=1)]: Done   5 out of   5 | elapsed:   26.9s finished\n"
     ]
    },
    {
     "name": "stdout",
     "output_type": "stream",
     "text": [
      "=================  Classification report  =================\n",
      "             precision    recall  f1-score   support\n",
      "\n",
      "          0       0.51      0.51      0.51      4885\n",
      "          1       0.51      0.50      0.50      4850\n",
      "\n",
      "avg / total       0.51      0.51      0.51      9735\n",
      "\n",
      "'=================     Best parameters     ================='\n",
      "{'bag_of_words__max_features': 500, 'bag_of_words__ngram_range': (1, 2), 'bag_of_words__stop_words': 'english', 'classifier__strategy': 'uniform', 'dim_reduct__n_components': 300, 'normalizer__norm': 'l2'}\n"
     ]
    }
   ],
   "source": [
    "param_grid = {\n",
    "        'bag_of_words__stop_words': ['english'],\n",
    "        'bag_of_words__ngram_range': [(1, 2)],\n",
    "        'bag_of_words__max_features': [500],\n",
    "        'dim_reduct__n_components': [300],\n",
    "        'normalizer__norm': ['l2'],\n",
    "        'classifier__strategy': ['uniform']\n",
    "}\n",
    "\n",
    "clf = DummyClassifier()\n",
    "\n",
    "run(param_grid, clf, comments_file='../data/train_binary_labels.csv')"
   ]
  },
  {
   "cell_type": "code",
   "execution_count": 5,
   "metadata": {},
   "outputs": [
    {
     "name": "stderr",
     "output_type": "stream",
     "text": [
      "C:\\Users\\jasmi\\Anaconda3\\lib\\site-packages\\sklearn\\model_selection\\_split.py:2026: FutureWarning: From version 0.21, test_size will always complement train_size unless both are specified.\n",
      "  FutureWarning)\n"
     ]
    },
    {
     "name": "stdout",
     "output_type": "stream",
     "text": [
      "Fitting 5 folds for each of 2 candidates, totalling 10 fits\n"
     ]
    },
    {
     "name": "stderr",
     "output_type": "stream",
     "text": [
      "[Parallel(n_jobs=1)]: Done  10 out of  10 | elapsed:  1.1min finished\n"
     ]
    },
    {
     "name": "stdout",
     "output_type": "stream",
     "text": [
      "=================  Classification report  =================\n",
      "             precision    recall  f1-score   support\n",
      "\n",
      "          0       0.80      0.90      0.85      4804\n",
      "          1       0.89      0.78      0.83      4931\n",
      "\n",
      "avg / total       0.84      0.84      0.84      9735\n",
      "\n",
      "'=================     Best parameters     ================='\n",
      "{'bag_of_words__max_features': 500, 'bag_of_words__ngram_range': (1, 2), 'bag_of_words__stop_words': 'english', 'classifier__C': 10.0, 'dim_reduct__n_components': 300, 'normalizer__norm': 'l2'}\n"
     ]
    }
   ],
   "source": [
    "param_grid = {\n",
    "        'bag_of_words__stop_words': ['english'],\n",
    "        'bag_of_words__ngram_range': [(1, 2)],\n",
    "        'bag_of_words__max_features': [500],\n",
    "        'dim_reduct__n_components': [300],\n",
    "        'normalizer__norm': ['l2'],\n",
    "        'classifier__C': [5., 10.]\n",
    "}\n",
    "\n",
    "\n",
    "clf = LogisticRegression()\n",
    "\n",
    "run(param_grid, clf, comments_file='../data/train_binary_labels.csv')"
   ]
  },
  {
   "cell_type": "code",
   "execution_count": 6,
   "metadata": {},
   "outputs": [
    {
     "name": "stderr",
     "output_type": "stream",
     "text": [
      "C:\\Users\\jasmi\\Anaconda3\\lib\\site-packages\\sklearn\\model_selection\\_split.py:2026: FutureWarning: From version 0.21, test_size will always complement train_size unless both are specified.\n",
      "  FutureWarning)\n"
     ]
    },
    {
     "name": "stdout",
     "output_type": "stream",
     "text": [
      "Fitting 5 folds for each of 1 candidates, totalling 5 fits\n"
     ]
    },
    {
     "name": "stderr",
     "output_type": "stream",
     "text": [
      "[Parallel(n_jobs=1)]: Done   5 out of   5 | elapsed:   28.9s finished\n"
     ]
    },
    {
     "name": "stdout",
     "output_type": "stream",
     "text": [
      "=================  Classification report  =================\n",
      "             precision    recall  f1-score   support\n",
      "\n",
      "          0       0.74      0.78      0.76      4836\n",
      "          1       0.77      0.73      0.75      4899\n",
      "\n",
      "avg / total       0.75      0.75      0.75      9735\n",
      "\n",
      "'=================     Best parameters     ================='\n",
      "{'bag_of_words__max_features': 500, 'bag_of_words__ngram_range': (1, 2), 'bag_of_words__stop_words': 'english', 'classifier__alpha': 1.0, 'classifier__binarize': 0.0, 'dim_reduct__n_components': 300, 'normalizer__norm': 'l2'}\n"
     ]
    }
   ],
   "source": [
    "from sklearn.naive_bayes import BernoulliNB\n",
    "from run_binary_classifier import run\n",
    "\n",
    "param_grid = {\n",
    "        'bag_of_words__stop_words': ['english'],\n",
    "        'bag_of_words__ngram_range': [(1, 2)],\n",
    "        'bag_of_words__max_features': [500],\n",
    "        'dim_reduct__n_components': [300],\n",
    "        'normalizer__norm': ['l2'],\n",
    "        'classifier__alpha': [1.0],\n",
    "        'classifier__binarize': [0.0]\n",
    "}\n",
    "\n",
    "clf = BernoulliNB()\n",
    "\n",
    "run(param_grid, clf, comments_file='../data/train_binary_labels.csv')"
   ]
  },
  {
   "cell_type": "code",
   "execution_count": 7,
   "metadata": {},
   "outputs": [
    {
     "name": "stderr",
     "output_type": "stream",
     "text": [
      "C:\\Users\\jasmi\\Anaconda3\\lib\\site-packages\\sklearn\\model_selection\\_split.py:2026: FutureWarning: From version 0.21, test_size will always complement train_size unless both are specified.\n",
      "  FutureWarning)\n"
     ]
    },
    {
     "name": "stdout",
     "output_type": "stream",
     "text": [
      "Fitting 5 folds for each of 3 candidates, totalling 15 fits\n"
     ]
    },
    {
     "name": "stderr",
     "output_type": "stream",
     "text": [
      "[Parallel(n_jobs=1)]: Done  15 out of  15 | elapsed:  2.5min finished\n"
     ]
    },
    {
     "name": "stdout",
     "output_type": "stream",
     "text": [
      "=================  Classification report  =================\n",
      "             precision    recall  f1-score   support\n",
      "\n",
      "          0       0.73      0.92      0.81      4810\n",
      "          1       0.89      0.67      0.76      4925\n",
      "\n",
      "avg / total       0.81      0.79      0.79      9735\n",
      "\n",
      "'=================     Best parameters     ================='\n",
      "{'bag_of_words__max_features': 500, 'bag_of_words__ngram_range': (1, 2), 'bag_of_words__stop_words': 'english', 'classifier__max_depth': 5, 'dim_reduct__n_components': 300, 'normalizer__norm': 'l2'}\n"
     ]
    }
   ],
   "source": [
    "from sklearn.tree import DecisionTreeClassifier\n",
    "from run_binary_classifier import run\n",
    "\n",
    "param_grid = {\n",
    "        'bag_of_words__stop_words': ['english'],\n",
    "        'bag_of_words__ngram_range': [(1, 2)],\n",
    "        'bag_of_words__max_features': [500],\n",
    "        'dim_reduct__n_components': [300],\n",
    "        'normalizer__norm': ['l2'],\n",
    "        'classifier__max_depth': [5, 10, 15]\n",
    "}\n",
    "\n",
    "clf = DecisionTreeClassifier()\n",
    "\n",
    "run(param_grid, clf, comments_file='../data/train_binary_labels.csv')"
   ]
  },
  {
   "cell_type": "code",
   "execution_count": 8,
   "metadata": {},
   "outputs": [
    {
     "name": "stderr",
     "output_type": "stream",
     "text": [
      "C:\\Users\\jasmi\\Anaconda3\\lib\\site-packages\\sklearn\\model_selection\\_split.py:2026: FutureWarning: From version 0.21, test_size will always complement train_size unless both are specified.\n",
      "  FutureWarning)\n"
     ]
    },
    {
     "name": "stdout",
     "output_type": "stream",
     "text": [
      "Fitting 5 folds for each of 2 candidates, totalling 10 fits\n"
     ]
    },
    {
     "name": "stderr",
     "output_type": "stream",
     "text": [
      "[Parallel(n_jobs=1)]: Done  10 out of  10 | elapsed: 11.9min finished\n"
     ]
    },
    {
     "name": "stdout",
     "output_type": "stream",
     "text": [
      "=================  Classification report  =================\n",
      "             precision    recall  f1-score   support\n",
      "\n",
      "          0       0.76      0.91      0.83      4778\n",
      "          1       0.89      0.72      0.80      4957\n",
      "\n",
      "avg / total       0.82      0.81      0.81      9735\n",
      "\n",
      "'=================     Best parameters     ================='\n",
      "{'bag_of_words__lowercase': True, 'bag_of_words__max_features': 500, 'bag_of_words__ngram_range': (1, 2), 'bag_of_words__stop_words': 'english', 'dim_reduct__n_components': 100, 'normalizer__norm': 'l2'}\n"
     ]
    }
   ],
   "source": [
    "from sklearn.svm import SVC\n",
    "from run_binary_classifier import run\n",
    "\n",
    "param_grid = {\n",
    "        'bag_of_words__stop_words': ['english'],\n",
    "        'bag_of_words__ngram_range': [(1, 2)],\n",
    "        'bag_of_words__max_features': [500],\n",
    "        'bag_of_words__lowercase': [True, False],\n",
    "        'dim_reduct__n_components': [100],\n",
    "        'normalizer__norm': ['l2']\n",
    "}\n",
    "\n",
    "clf = SVC()\n",
    "\n",
    "run(param_grid, clf, comments_file='../data/train_binary_labels.csv')"
   ]
  }
 ],
 "metadata": {
  "kernelspec": {
   "display_name": "Python 3",
   "language": "python",
   "name": "python3"
  },
  "language_info": {
   "codemirror_mode": {
    "name": "ipython",
    "version": 3
   },
   "file_extension": ".py",
   "mimetype": "text/x-python",
   "name": "python",
   "nbconvert_exporter": "python",
   "pygments_lexer": "ipython3",
   "version": "3.6.4"
  }
 },
 "nbformat": 4,
 "nbformat_minor": 2
}
